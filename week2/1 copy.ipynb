{
 "cells": [
  {
   "cell_type": "code",
   "execution_count": 2,
   "metadata": {},
   "outputs": [],
   "source": [
    "import os\n",
    "import base64\n",
    "from dotenv import load_dotenv\n",
    "\n",
    "load_dotenv(override=True)\n",
    "# Get keys for your project from the project settings page: https://cloud.langfuse.com\n",
    "os.environ[\"LANGFUSE_PUBLIC_KEY\"] = os.getenv(\"LANGFUSE_PUBLIC_KEY\")\n",
    "os.environ[\"LANGFUSE_SECRET_KEY\"] = os.getenv(\"LANGFUSE_SECRET_KEY\")\n",
    "os.environ[\"LANGFUSE_HOST\"] = os.getenv(\"LANGFUSE_HOST\", \"https://cloud.langfuse.com\")\n",
    "\n",
    "# Build Basic Auth header.\n",
    "LANGFUSE_AUTH = base64.b64encode(\n",
    "    f\"{os.environ.get('LANGFUSE_PUBLIC_KEY')}:{os.environ.get('LANGFUSE_SECRET_KEY')}\".encode()\n",
    ").decode()\n",
    " \n",
    "# Configure OpenTelemetry endpoint & headers\n",
    "os.environ[\"OTEL_EXPORTER_OTLP_ENDPOINT\"] = os.environ.get(\"LANGFUSE_HOST\") + \"/api/public/otel\"\n",
    "os.environ[\"OTEL_EXPORTER_OTLP_HEADERS\"] = f\"Authorization=Basic {LANGFUSE_AUTH}\"\n",
    "\n",
    "# Your openai key\n",
    "os.environ[\"OPENAI_API_KEY\"] = os.getenv(\"OPENAI_API_KEY\")"
   ]
  },
  {
   "cell_type": "code",
   "execution_count": 3,
   "metadata": {},
   "outputs": [
    {
     "name": "stdout",
     "output_type": "stream",
     "text": [
      "Langfuse client is authenticated and ready!\n"
     ]
    }
   ],
   "source": [
    "from langfuse import get_client\n",
    " \n",
    "langfuse = get_client()\n",
    " \n",
    "# Verify connection\n",
    "if langfuse.auth_check():\n",
    "    print(\"Langfuse client is authenticated and ready!\")\n",
    "else:\n",
    "    print(\"Authentication failed. Please check your credentials and host.\")\n",
    "    "
   ]
  },
  {
   "cell_type": "code",
   "execution_count": 4,
   "metadata": {},
   "outputs": [],
   "source": [
    "import nest_asyncio\n",
    "nest_asyncio.apply()\n"
   ]
  },
  {
   "cell_type": "code",
   "execution_count": 5,
   "metadata": {},
   "outputs": [
    {
     "name": "stderr",
     "output_type": "stream",
     "text": [
      "Overriding of current TracerProvider is not allowed\n"
     ]
    }
   ],
   "source": [
    "import logfire\n",
    "\n",
    "# Configure logfire instrumentation.\n",
    "logfire.configure(\n",
    "    service_name='my_agent_service',\n",
    "\n",
    "    send_to_logfire=False,\n",
    ")\n",
    "# This method automatically patches the OpenAI Agents SDK to send logs via OTLP to Langfuse.\n",
    "logfire.instrument_openai_agents()"
   ]
  },
  {
   "cell_type": "code",
   "execution_count": 6,
   "metadata": {},
   "outputs": [
    {
     "name": "stdout",
     "output_type": "stream",
     "text": [
      "It is important to evaluate AI agents for several key reasons:\n",
      "\n",
      "1. **Reliability:**  \n",
      "Evaluation ensures that AI agents behave as intended and consistently produce reliable and accurate results. This is crucial in applications where incorrect decisions could have significant consequences.\n",
      "\n",
      "2. **Safety:**  \n",
      "AI agents may cause harm if they take inappropriate actions, especially in safety-critical domains such as healthcare, finance, autonomous vehicles, or security systems. Evaluating AI agents helps identify and mitigate potential risks.\n",
      "\n",
      "3. **Fairness and Bias:**  \n",
      "AI systems can inadvertently learn and reinforce biases present in their training data. Continuous evaluation helps identify and correct unfair or biased behavior, supporting ethical and equitable use.\n",
      "\n",
      "4. **Performance Measurement:**  \n",
      "Evaluation allows organizations to measure the effectiveness, efficiency, and scalability of AI agents. This is vital for optimizing models, ensuring satisfactory user experiences, and meeting business or operational benchmarks.\n",
      "\n",
      "5. **Compliance and Accountability:**  \n",
      "Many industries are subject to legal and regulatory frameworks (e.g., GDPR, HIPAA). Evaluation is essential to demonstrate that AI systems meet these requirements, ensuring accountability and transparency.\n",
      "\n",
      "6. **Adaptation to Changing Environments:**  \n",
      "Environments and user needs evolve over time. Regular evaluation helps identify when an AI agent’s performance degrades or fails due to such changes, indicating when updates or retraining are necessary.\n",
      "\n",
      "7. **Comparison and Benchmarking:**  \n",
      "Evaluation provides a basis for comparing different AI models, algorithms, or systems. It helps teams select the best model for the task and fosters competition and innovation.\n",
      "\n",
      "8. **User Trust:**  \n",
      "Consistent and transparent evaluation builds trust with users and stakeholders in the AI agent's outputs and decisions.\n",
      "\n",
      "In summary:  \n",
      "**Evaluation is foundational for building effective, safe, fair, and trustworthy AI agents. Without careful evaluation, deploying AI can lead to unreliable outcomes, ethical issues, and damaged reputations.**\n"
     ]
    }
   ],
   "source": [
    "import asyncio\n",
    "from agents import Agent, Runner\n",
    "\n",
    "async def main():\n",
    "    agent = Agent(\n",
    "        name=\"Assistant\",\n",
    "        instructions=\"You are a senior software engineer\",\n",
    "    )\n",
    "\n",
    "    result = await Runner.run(agent, \"Tell me why it is important to evaluate AI agents.\")\n",
    "    print(result.final_output)\n",
    "\n",
    "loop = asyncio.get_running_loop()\n",
    "await loop.create_task(main())\n",
    "\n",
    "langfuse.flush()"
   ]
  },
  {
   "cell_type": "code",
   "execution_count": null,
   "metadata": {},
   "outputs": [],
   "source": []
  }
 ],
 "metadata": {
  "kernelspec": {
   "display_name": "Python 3",
   "language": "python",
   "name": "python3"
  },
  "language_info": {
   "codemirror_mode": {
    "name": "ipython",
    "version": 3
   },
   "file_extension": ".py",
   "mimetype": "text/x-python",
   "name": "python",
   "nbconvert_exporter": "python",
   "pygments_lexer": "ipython3",
   "version": "3.12.11"
  }
 },
 "nbformat": 4,
 "nbformat_minor": 2
}
