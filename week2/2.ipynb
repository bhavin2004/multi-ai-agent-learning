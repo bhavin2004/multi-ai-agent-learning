{
 "cells": [
  {
   "cell_type": "code",
   "execution_count": 1,
   "metadata": {},
   "outputs": [],
   "source": [
    "from dotenv import load_dotenv\n",
    "from agents import Agent, Runner, trace, function_tool\n",
    "from openai.types.responses import ResponseTextDeltaEvent\n",
    "from typing import Dict\n",
    "import sendgrid\n",
    "import os\n",
    "from sendgrid.helpers.mail import Mail, Email, To, Content\n",
    "import asyncio\n",
    "from langfuse import Langfuse\n",
    "import logfire"
   ]
  },
  {
   "cell_type": "code",
   "execution_count": 2,
   "metadata": {},
   "outputs": [],
   "source": [
    "load_dotenv(override=True)\n",
    "os.environ[\"LANGFUSE_PUBLIC_KEY\"] = os.getenv(\"LANGFUSE_PUBLIC_KEY\")\n",
    "os.environ[\"LANGFUSE_SECRET_KEY\"] = os.getenv(\"LANGFUSE_SECRET_KEY\")\n",
    "os.environ[\"LANGFUSE_HOST\"] = os.getenv(\"LANGFUSE_HOST\")\n",
    "os.environ[\"OPENAI_API_KEY\"] = os.getenv(\"OPENAI_API_KEY\")"
   ]
  },
  {
   "cell_type": "code",
   "execution_count": null,
   "metadata": {},
   "outputs": [],
   "source": [
    "logfire.configure(\n",
    "    service_name='my_agent_service',\n",
    "    send_to_logfire=False,\n",
    "    \n",
    ")\n",
    "# This method automatically patches the OpenAI Agents SDK to send logs via OTLP to Langfuse.\n",
    "logfire.instrument_openai_agents()"
   ]
  },
  {
   "cell_type": "code",
   "execution_count": null,
   "metadata": {},
   "outputs": [
    {
     "data": {
      "text/plain": [
       "<bound method Logfire.info of <logfire._internal.main.Logfire object at 0x7df19f13c050>>"
      ]
     },
     "execution_count": 18,
     "metadata": {},
     "output_type": "execute_result"
    }
   ],
   "source": []
  },
  {
   "cell_type": "code",
   "execution_count": 36,
   "metadata": {},
   "outputs": [
    {
     "name": "stdout",
     "output_type": "stream",
     "text": [
      "202\n"
     ]
    }
   ],
   "source": [
    "def send_test_email():\n",
    "    sg = sendgrid.SendGridAPIClient(api_key=os.environ.get('SENDGRID_API_KEY'))\n",
    "    from_email = Email(\"bhavin@advant.xyz\")  \n",
    "    to_email = To(\"bhavin2004k@gmail.com\")\n",
    "    content = Content(\"text/plain\", \"This is an important test email\")\n",
    "    mail = Mail(from_email, to_email, \"bhavin\", content).get()\n",
    "    response = sg.client.mail.send.post(request_body=mail)\n",
    "    print(response.status_code)\n",
    "    return response\n",
    "\n",
    "res=send_test_email()"
   ]
  },
  {
   "cell_type": "code",
   "execution_count": 7,
   "metadata": {},
   "outputs": [
    {
     "name": "stdout",
     "output_type": "stream",
     "text": [
      "Server: nginx\n",
      "Date: Wed, 17 Sep 2025 12:56:06 GMT\n",
      "Content-Length: 0\n",
      "Connection: close\n",
      "X-Message-Id: js7lVeUnRzCv5nfl61zmZw\n",
      "Access-Control-Allow-Origin: https://sendgrid.api-docs.io\n",
      "Access-Control-Allow-Methods: POST\n",
      "Access-Control-Allow-Headers: Authorization, Content-Type, On-behalf-of, x-sg-elas-acl\n",
      "Access-Control-Max-Age: 600\n",
      "X-No-CORS-Reason: https://sendgrid.com/docs/Classroom/Basics/API/cors.html\n",
      "Strict-Transport-Security: max-age=31536000; includeSubDomains\n",
      "Content-Security-Policy: frame-ancestors 'none'\n",
      "Cache-Control: no-cache\n",
      "X-Content-Type-Options: no-sniff\n",
      "Referrer-Policy: strict-origin-when-cross-origin\n",
      "\n",
      "\n"
     ]
    }
   ],
   "source": [
    "print(res.headers)"
   ]
  },
  {
   "cell_type": "code",
   "execution_count": 4,
   "metadata": {},
   "outputs": [],
   "source": [
    "instructions1 = \"You are a sales agent working for ComplAI, \\\n",
    "a company that provides a SaaS tool for ensuring SOC2 compliance and preparing for audits, powered by AI. \\\n",
    "You write professional, serious cold emails.\"\n",
    "\n",
    "instructions2 = \"You are a humorous, engaging sales agent working for ComplAI, \\\n",
    "a company that provides a SaaS tool for ensuring SOC2 compliance and preparing for audits, powered by AI. \\\n",
    "You write witty, engaging cold emails that are likely to get a response.\"\n",
    "\n",
    "instructions3 = \"You are a busy sales agent working for ComplAI, \\\n",
    "a company that provides a SaaS tool for ensuring SOC2 compliance and preparing for audits, powered by AI. \\\n",
    "You write concise, to the point cold emails.\""
   ]
  },
  {
   "cell_type": "code",
   "execution_count": 5,
   "metadata": {},
   "outputs": [],
   "source": [
    "sales_agent1 = Agent(\n",
    "        name=\"Professional Sales Agent\",\n",
    "        instructions=instructions1,\n",
    "        model=\"gpt-4o-mini\"\n",
    ")\n",
    "\n",
    "sales_agent2 = Agent(\n",
    "        name=\"Engaging Sales Agent\",\n",
    "        instructions=instructions2,\n",
    "        model=\"gpt-4o-mini\"\n",
    ")\n",
    "\n",
    "sales_agent3 = Agent(\n",
    "        name=\"Busy Sales Agent\",\n",
    "        instructions=instructions3,\n",
    "        model=\"gpt-4o-mini\"\n",
    ")"
   ]
  },
  {
   "cell_type": "code",
   "execution_count": 6,
   "metadata": {},
   "outputs": [],
   "source": [
    "import nest_asyncio\n",
    "nest_asyncio.apply()"
   ]
  },
  {
   "cell_type": "code",
   "execution_count": 12,
   "metadata": {},
   "outputs": [
    {
     "name": "stdout",
     "output_type": "stream",
     "text": [
      "True\n"
     ]
    }
   ],
   "source": [
    "from langfuse import get_client\n",
    "langfuse = get_client()\n",
    "print(langfuse.auth_check()) "
   ]
  },
  {
   "cell_type": "code",
   "execution_count": null,
   "metadata": {},
   "outputs": [
    {
     "ename": "TypeError",
     "evalue": "no_auto_trace() missing 1 required positional argument: 'x'",
     "output_type": "error",
     "traceback": [
      "\u001b[31m---------------------------------------------------------------------------\u001b[39m",
      "\u001b[31mTypeError\u001b[39m                                 Traceback (most recent call last)",
      "\u001b[36mCell\u001b[39m\u001b[36m \u001b[39m\u001b[32mIn[19]\u001b[39m\u001b[32m, line 1\u001b[39m\n\u001b[32m----> \u001b[39m\u001b[32m1\u001b[39m \u001b[38;5;129m@logfire\u001b[39m\u001b[43m.\u001b[49m\u001b[43mno_auto_trace\u001b[49m\u001b[43m(\u001b[49m\u001b[43m)\u001b[49m\n\u001b[32m      2\u001b[39m \u001b[38;5;28;01masync\u001b[39;00m \u001b[38;5;28;01mdef\u001b[39;00m\u001b[38;5;250m \u001b[39m\u001b[34mmain\u001b[39m():\n\u001b[32m      4\u001b[39m         result = Runner.run_streamed(sales_agent1, \u001b[38;5;28minput\u001b[39m=\u001b[33m\"\u001b[39m\u001b[33mWrite a cold sales email\u001b[39m\u001b[33m\"\u001b[39m)\n\u001b[32m      5\u001b[39m         \u001b[38;5;28;01masync\u001b[39;00m \u001b[38;5;28;01mfor\u001b[39;00m event \u001b[38;5;129;01min\u001b[39;00m result.stream_events():\n",
      "\u001b[31mTypeError\u001b[39m: no_auto_trace() missing 1 required positional argument: 'x'"
     ]
    }
   ],
   "source": [
    "\n",
    "async def main():\n",
    "\n",
    "        result = Runner.run_streamed(sales_agent1, input=\"Write a cold sales email\")\n",
    "        async for event in result.stream_events():\n",
    "            if event.type == \"raw_response_event\" and isinstance(event.data, ResponseTextDeltaEvent):\n",
    "                print(event.data.delta, end=\"\", flush=True)\n",
    "loop = asyncio.get_running_loop()\n",
    "await loop.create_task(main())"
   ]
  },
  {
   "cell_type": "code",
   "execution_count": 26,
   "metadata": {},
   "outputs": [
    {
     "name": "stdout",
     "output_type": "stream",
     "text": [
      "16:56:10.697 OpenAI Agents trace: Agent workflow\n",
      "16:56:10.712   Agent run: 'Professional Sales Agent'\n",
      "16:56:10.714 OpenAI Agents trace: Agent workflow\n",
      "16:56:10.715   Agent run: 'Engaging Sales Agent'\n",
      "16:56:10.717 OpenAI Agents trace: Agent workflow\n",
      "16:56:10.719   Agent run: 'Busy Sales Agent'\n",
      "             OpenAI Agents trace: Agent workflow\n",
      "               Agent run: 'Professional Sales Agent'\n",
      "16:56:10.722     Responses API with 'gpt-4o-mini'\n",
      "             OpenAI Agents trace: Agent workflow\n",
      "               Agent run: 'Engaging Sales Agent'\n",
      "16:56:10.727     Responses API with 'gpt-4o-mini'\n",
      "             OpenAI Agents trace: Agent workflow\n",
      "               Agent run: 'Busy Sales Agent'\n",
      "16:56:10.731     Responses API with 'gpt-4o-mini'\n",
      "Subject: Simplify Your SOC 2 Compliance Journey with ComplAI\n",
      "\n",
      "Hi [Recipient's Name],\n",
      "\n",
      "I hope this message finds you well. My name is [Your Name], and I’m reaching out from ComplAI, where we specialize in helping companies like yours streamline their SOC 2 compliance process. \n",
      "\n",
      "Staying compliant can often be a daunting and resource-intensive task. With our innovative SaaS solution, powered by AI, we make achieving and maintaining SOC 2 compliance significantly easier. Our platform automates many of the labor-intensive aspects of compliance, helping you prepare for audits efficiently while minimizing the risk of oversight.\n",
      "\n",
      "Here are a few key benefits of using ComplAI:\n",
      "\n",
      "- **Automated Documentation**: Quickly generate the necessary documents and evidence for SOC 2 compliance.\n",
      "- **Real-Time Monitoring**: Stay ahead of potential compliance issues with continuous monitoring and alerts.\n",
      "- **Guided Audits**: Simplify the audit process with our structured approach, ensuring nothing is overlooked.\n",
      "\n",
      "I’d love to schedule a brief call to discuss how ComplAI can support your compliance goals and save you valuable time and resources. Are you available this week for a quick chat?\n",
      "\n",
      "Thank you for considering this opportunity. I look forward to hearing from you.\n",
      "\n",
      "Best regards,\n",
      "\n",
      "[Your Name]  \n",
      "[Your Job Title]  \n",
      "ComplAI  \n",
      "[Your Phone Number]  \n",
      "[Your Email Address]  \n",
      "[Your LinkedIn Profile] (if applicable)  \n",
      "\n",
      "\n",
      "Subject: Tired of Compliance Headaches? Let’s Get You a Painkiller!\n",
      "\n",
      "Hi [Recipient's Name],\n",
      "\n",
      "Ever feel like SOC2 compliance is that one party guest who overstays their welcome? You know, the one who keeps dropping off and picking up more paperwork at your doorstep?\n",
      "\n",
      "At ComplAI, we believe compliance should feel less like a nightmare and more like… well, an enjoyable brunch with friends (mimosas included!). Our AI-powered tool takes the headache out of preparing for audits, so you can focus on what really matters—like perfecting your coffee ritual or plotting world domination!\n",
      "\n",
      "Here’s what we can do for you:\n",
      "\n",
      "- **Automated Compliance Tasks**: Let our AI handle the busywork, so you don't have to pull your hair out over endless spreadsheets.\n",
      "- **Real-Time Visibility**: Keep your compliance status at your fingertips; say goodbye to the panic-before-an-audit scramble!\n",
      "- **Proactive Alerts**: We’ll remind you when deadlines are approaching (like that friend who never lets you forget about brunch!)\n",
      "\n",
      "Curious to learn more? I promise I won’t show up uninvited, although I would love to schedule a quick chat to see how we can make companionable compliance a reality for you.\n",
      "\n",
      "Looking forward to the possibility of discussing mimosas and compliance strategies!\n",
      "\n",
      "Cheers,  \n",
      "[Your Name]  \n",
      "[Your Job Title]  \n",
      "ComplAI  \n",
      "[Your Phone Number]  \n",
      "[Your Email Address]  \n",
      "\n",
      "P.S. If you’re in a rush, just reply with “YES” and I'll handle the rest. Trust me, you’ll thank me later! 😉\n",
      "\n",
      "\n",
      "Subject: Simplify Your SOC 2 Compliance\n",
      "\n",
      "Hi [Recipient's Name],\n",
      "\n",
      "I hope this message finds you well. I’m reaching out to introduce ComplAI, a powerful SaaS tool designed to streamline your SOC 2 compliance process.\n",
      "\n",
      "Our AI-driven platform helps you efficiently prepare for audits, reducing time and effort significantly. With ComplAI, you can:\n",
      "\n",
      "- Automate documentation\n",
      "- Identify compliance gaps\n",
      "- Ensure continuous monitoring\n",
      "\n",
      "Let’s schedule a brief call to discuss how we can help your team simplify compliance.\n",
      "\n",
      "Best,  \n",
      "[Your Name]  \n",
      "[Your Job Title]  \n",
      "ComplAI  \n",
      "[Your Phone Number]  \n",
      "[Your LinkedIn Profile]  \n",
      "\n",
      "\n"
     ]
    }
   ],
   "source": [
    "message = \"Write a cold sales email\"\n",
    "\n",
    "results = await asyncio.gather(\n",
    "        Runner.run(sales_agent1, message),\n",
    "        Runner.run(sales_agent2, message),\n",
    "        Runner.run(sales_agent3, message),\n",
    "    )\n",
    "\n",
    "outputs = [result.final_output for result in results]\n",
    "\n",
    "for output in outputs:\n",
    "    print(output + \"\\n\\n\")\n"
   ]
  },
  {
   "cell_type": "code",
   "execution_count": 20,
   "metadata": {},
   "outputs": [],
   "source": [
    "sales_picker = Agent(\n",
    "    name=\"sales_picker\",\n",
    "    instructions=\"You pick the best cold sales email from the given options. \\\n",
    "Imagine you are a customer and pick the one you are most likely to respond to. \\\n",
    "Do not give an explanation; reply with the selected email only.\",\n",
    "    model=\"gpt-4o-mini\"\n",
    ")"
   ]
  },
  {
   "cell_type": "code",
   "execution_count": 21,
   "metadata": {},
   "outputs": [
    {
     "name": "stdout",
     "output_type": "stream",
     "text": [
      "18:53:56.208 OpenAI Agents trace: get_best_email\n",
      "18:53:56.209   Agent run: 'Professional Sales Agent'\n",
      "18:53:56.210   Agent run: 'Engaging Sales Agent'\n",
      "18:53:56.210   Agent run: 'Busy Sales Agent'\n",
      "               Agent run: 'Professional Sales Agent'\n",
      "18:53:56.212     Responses API with 'gpt-4o-mini'\n",
      "               Agent run: 'Engaging Sales Agent'\n",
      "18:53:56.215     Responses API with 'gpt-4o-mini'\n",
      "               Agent run: 'Busy Sales Agent'\n",
      "18:53:56.217     Responses API with 'gpt-4o-mini'\n",
      "18:54:06.411   Agent run: 'sales_picker'\n",
      "18:54:06.412     Responses API with 'gpt-4o-mini'\n",
      "Best sales email:\n",
      "Subject: Let’s Make SOC2 Compliance as Fun as Watching Paint Dry! 🎉\n",
      "\n",
      "Hi [Recipient's Name],\n",
      "\n",
      "I hope this email finds you well and not buried under a mountain of compliance paperwork!\n",
      "\n",
      "Let’s cut to the chase: If you’ve ever thought, “Wow, I really love spending my evenings manually preparing for SOC2 audits,” then it’s time to chat. If you’re like the rest of us,\n",
      "\n",
      "we prefer life without mountains of boring documentation and endless spreadsheet gymnastics.\n",
      "\n",
      "Enter ComplAI, your ultimate sidekick in the world of SOC2 compliance! Think of us as the superhero of stress relief—powered by AI, we streamline the audit process so you can reclaim your time (and sanity).\n",
      "\n",
      "Here’s what we offer:\n",
      "- **Automated Documentation**: Because who has the time for 100-page manuals?\n",
      "- **Real-Time Monitoring**: Our AI will keep you compliant while you keep your sanity.\n",
      "- **Stress-Free Audits**: Let’s take the dread out of compliance together!\n",
      "\n",
      "Ready to turn your SOC2 nightmares into sweet dreams? I’d love to set up a quick call to see how we can save you time and headaches. Plus, I promise to bring my best dad jokes!\n",
      "\n",
      "Looking forward to hearing from you!\n",
      "\n",
      "Best,  \n",
      "[Your Name]  \n",
      "[Your Position]  \n",
      "ComplAI  \n",
      "[Your Contact Information]  \n",
      "\n",
      "P.S. Did I mention we have a “no boring” policy? You’re in for a treat!\n"
     ]
    }
   ],
   "source": [
    "message = \"Write a cold sales email\"\n",
    "\n",
    "\n",
    "async def get_best_email(message: str) -> str:\n",
    "    with trace(\"get_best_email\"):\n",
    "        results = await asyncio.gather(\n",
    "            Runner.run(sales_agent1, message),\n",
    "            Runner.run(sales_agent2, message),\n",
    "            Runner.run(sales_agent3, message),\n",
    "        )\n",
    "        outputs = [result.final_output for result in results]\n",
    "\n",
    "        emails = \"Cold sales emails:\\n\\n\" + \"\\n\\nEmail:\\n\\n\".join(outputs)\n",
    "\n",
    "        best = await Runner.run(sales_picker, emails)\n",
    "\n",
    "        return f\"Best sales email:\\n{best.final_output}\"\n",
    "res = await get_best_email(message)\n",
    "print(res)"
   ]
  },
  {
   "cell_type": "code",
   "execution_count": 32,
   "metadata": {},
   "outputs": [],
   "source": [
    "sender_email = \"bhavin@advant.xyz\"\n",
    "receiver_email = 'bhavin2004k@gmail.com'"
   ]
  },
  {
   "cell_type": "code",
   "execution_count": 57,
   "metadata": {},
   "outputs": [
    {
     "data": {
      "text/plain": [
       "FunctionTool(name='send_email', description='Send out an email with the given body to all sales prospects', params_json_schema={'properties': {'body': {'title': 'Body', 'type': 'string'}}, 'required': ['body'], 'title': 'send_email_args', 'type': 'object', 'additionalProperties': False}, on_invoke_tool=<function function_tool.<locals>._create_function_tool.<locals>._on_invoke_tool at 0x7df15be18900>, strict_json_schema=True, is_enabled=True)"
      ]
     },
     "execution_count": 57,
     "metadata": {},
     "output_type": "execute_result"
    }
   ],
   "source": [
    "@function_tool\n",
    "def send_email(body: str):\n",
    "    \"\"\" Send out an email with the given body to all sales prospects \"\"\"\n",
    "    try:\n",
    "        sg = sendgrid.SendGridAPIClient(api_key=os.environ.get('SENDGRID_API_KEY'))\n",
    "        from_email = Email(sender_email)  # Change to your verified sender\n",
    "        to_email = To(receiver_email)  # Change to your recipient\n",
    "        content = Content(\"text/plain\", body)\n",
    "        mail = Mail(from_email, to_email, \"Sales email\", content).get()\n",
    "        sg.client.mail.send.post(request_body=mail)\n",
    "        # print(response)\n",
    "        return {\"status\": \"success\"}\n",
    "    except:\n",
    "        print(\"Error\")\n",
    "    \n",
    "\n",
    "send_email"
   ]
  },
  {
   "cell_type": "code",
   "execution_count": 26,
   "metadata": {},
   "outputs": [
    {
     "data": {
      "text/plain": [
       "FunctionTool(name='sales_agent1', description='Write a cold sales email', params_json_schema={'properties': {'input': {'title': 'Input', 'type': 'string'}}, 'required': ['input'], 'title': 'sales_agent1_args', 'type': 'object', 'additionalProperties': False}, on_invoke_tool=<function function_tool.<locals>._create_function_tool.<locals>._on_invoke_tool at 0x7df1743a7c40>, strict_json_schema=True, is_enabled=True)"
      ]
     },
     "execution_count": 26,
     "metadata": {},
     "output_type": "execute_result"
    }
   ],
   "source": [
    "tool1 = sales_agent1.as_tool(tool_name=\"sales_agent1\", tool_description=\"Write a cold sales email\")\n",
    "tool1"
   ]
  },
  {
   "cell_type": "code",
   "execution_count": 27,
   "metadata": {},
   "outputs": [
    {
     "data": {
      "text/plain": [
       "[FunctionTool(name='sales_agent1', description='Write a cold sales email', params_json_schema={'properties': {'input': {'title': 'Input', 'type': 'string'}}, 'required': ['input'], 'title': 'sales_agent1_args', 'type': 'object', 'additionalProperties': False}, on_invoke_tool=<function function_tool.<locals>._create_function_tool.<locals>._on_invoke_tool at 0x7df1743a7a60>, strict_json_schema=True, is_enabled=True),\n",
       " FunctionTool(name='sales_agent2', description='Write a cold sales email', params_json_schema={'properties': {'input': {'title': 'Input', 'type': 'string'}}, 'required': ['input'], 'title': 'sales_agent2_args', 'type': 'object', 'additionalProperties': False}, on_invoke_tool=<function function_tool.<locals>._create_function_tool.<locals>._on_invoke_tool at 0x7df1743a7420>, strict_json_schema=True, is_enabled=True),\n",
       " FunctionTool(name='sales_agent3', description='Write a cold sales email', params_json_schema={'properties': {'input': {'title': 'Input', 'type': 'string'}}, 'required': ['input'], 'title': 'sales_agent3_args', 'type': 'object', 'additionalProperties': False}, on_invoke_tool=<function function_tool.<locals>._create_function_tool.<locals>._on_invoke_tool at 0x7df1743a7f60>, strict_json_schema=True, is_enabled=True),\n",
       " FunctionTool(name='send_email', description='Send out an email with the given body to all sales prospects', params_json_schema={'properties': {'body': {'title': 'Body', 'type': 'string'}}, 'required': ['body'], 'title': 'send_email_args', 'type': 'object', 'additionalProperties': False}, on_invoke_tool=<function function_tool.<locals>._create_function_tool.<locals>._on_invoke_tool at 0x7df1743a5d00>, strict_json_schema=True, is_enabled=True)]"
      ]
     },
     "execution_count": 27,
     "metadata": {},
     "output_type": "execute_result"
    }
   ],
   "source": [
    "description = \"Write a cold sales email\"\n",
    "\n",
    "tool1 = sales_agent1.as_tool(tool_name=\"sales_agent1\", tool_description=description)\n",
    "tool2 = sales_agent2.as_tool(tool_name=\"sales_agent2\", tool_description=description)\n",
    "tool3 = sales_agent3.as_tool(tool_name=\"sales_agent3\", tool_description=description)\n",
    "\n",
    "tools = [tool1, tool2, tool3, send_email]\n",
    "\n",
    "tools"
   ]
  },
  {
   "cell_type": "code",
   "execution_count": 28,
   "metadata": {},
   "outputs": [
    {
     "name": "stdout",
     "output_type": "stream",
     "text": [
      "19:17:46.715 OpenAI Agents trace: Sales manager\n",
      "19:17:46.716   Agent run: 'Sales Manager'\n",
      "19:17:46.717     Responses API with 'gpt-4o-mini'\n",
      "19:17:54.640     Function: sales_agent1\n",
      "19:17:54.641     Function: sales_agent2\n",
      "19:17:54.641     Function: sales_agent3\n",
      "                 Function: sales_agent1\n",
      "19:17:54.641       Agent run: 'Professional Sales Agent'\n",
      "                 Function: sales_agent2\n",
      "19:17:54.642       Agent run: 'Engaging Sales Agent'\n",
      "                 Function: sales_agent3\n",
      "19:17:54.642       Agent run: 'Busy Sales Agent'\n",
      "                 Function: sales_agent1\n",
      "                   Agent run: 'Professional Sales Agent'\n",
      "19:17:54.643         Responses API with 'gpt-4o-mini'\n",
      "                 Function: sales_agent2\n",
      "                   Agent run: 'Engaging Sales Agent'\n",
      "19:17:54.645         Responses API with 'gpt-4o-mini'\n",
      "                 Function: sales_agent3\n",
      "                   Agent run: 'Busy Sales Agent'\n",
      "19:17:54.646         Responses API with 'gpt-4o-mini'\n",
      "19:18:01.242     Responses API with 'gpt-4o-mini'\n",
      "19:18:10.921     Function: sales_agent1\n",
      "19:18:10.923     Function: sales_agent2\n",
      "19:18:10.924     Function: sales_agent3\n",
      "                 Function: sales_agent1\n",
      "19:18:10.925       Agent run: 'Professional Sales Agent'\n",
      "                 Function: sales_agent2\n",
      "19:18:10.930       Agent run: 'Engaging Sales Agent'\n",
      "                 Function: sales_agent3\n",
      "19:18:10.931       Agent run: 'Busy Sales Agent'\n",
      "                 Function: sales_agent1\n",
      "                   Agent run: 'Professional Sales Agent'\n",
      "19:18:10.932         Responses API with 'gpt-4o-mini'\n",
      "                 Function: sales_agent2\n",
      "                   Agent run: 'Engaging Sales Agent'\n",
      "19:18:10.934         Responses API with 'gpt-4o-mini'\n",
      "                 Function: sales_agent3\n",
      "                   Agent run: 'Busy Sales Agent'\n",
      "19:18:10.937         Responses API with 'gpt-4o-mini'\n",
      "19:18:16.929     Responses API with 'gpt-4o-mini'\n",
      "19:18:29.651     Function: send_email\n",
      "19:18:30.733     Responses API with 'gpt-4o-mini'\n",
      "19:18:34.973     Function: send_email\n",
      "19:18:37.084     Responses API with 'gpt-4o-mini'\n"
     ]
    }
   ],
   "source": [
    "instructions = \"\"\"\n",
    "You are a Sales Manager at ComplAI. Your goal is to find the single best cold sales email using the sales_agent tools.\n",
    " \n",
    "Follow these steps carefully:\n",
    "1. Generate Drafts: Use all three sales_agent tools to generate three different email drafts. Do not proceed until all three drafts are ready.\n",
    " \n",
    "2. Evaluate and Select: Review the drafts and choose the single best email using your judgment of which one is most effective.\n",
    " \n",
    "3. Use the send_email tool to send the best email (and only the best email) to the user.\n",
    " \n",
    "Crucial Rules:\n",
    "- You must use the sales agent tools to generate the drafts — do not write them yourself.\n",
    "- You must send ONE email using the send_email tool — never more than one.\n",
    "\"\"\"\n",
    "\n",
    "\n",
    "sales_manager = Agent(name=\"Sales Manager\", instructions=instructions, tools=tools, model=\"gpt-4o-mini\")\n",
    "\n",
    "message = \"Send a cold sales email addressed to 'Dear CEO'\"\n",
    "\n",
    "with trace(\"Sales manager\"):\n",
    "    result = await Runner.run(sales_manager, message)"
   ]
  },
  {
   "cell_type": "markdown",
   "metadata": {},
   "source": []
  }
 ],
 "metadata": {
  "kernelspec": {
   "display_name": "agents",
   "language": "python",
   "name": "python3"
  },
  "language_info": {
   "codemirror_mode": {
    "name": "ipython",
    "version": 3
   },
   "file_extension": ".py",
   "mimetype": "text/x-python",
   "name": "python",
   "nbconvert_exporter": "python",
   "pygments_lexer": "ipython3",
   "version": "3.12.11"
  }
 },
 "nbformat": 4,
 "nbformat_minor": 2
}
