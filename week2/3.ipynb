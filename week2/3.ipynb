{
 "cells": [
  {
   "cell_type": "code",
   "execution_count": 1,
   "metadata": {},
   "outputs": [],
   "source": [
    "from dotenv import load_dotenv\n",
    "from openai import AsyncOpenAI\n",
    "from agents import Agent, Runner, trace, function_tool, OpenAIChatCompletionsModel, input_guardrail, GuardrailFunctionOutput\n",
    "from typing import Dict\n",
    "import sendgrid\n",
    "import os\n",
    "from sendgrid.helpers.mail import Mail, Email, To, Content\n",
    "from pydantic import BaseModel"
   ]
  },
  {
   "cell_type": "code",
   "execution_count": 2,
   "metadata": {},
   "outputs": [
    {
     "data": {
      "text/plain": [
       "True"
      ]
     },
     "execution_count": 2,
     "metadata": {},
     "output_type": "execute_result"
    }
   ],
   "source": [
    "load_dotenv(override=True)"
   ]
  },
  {
   "cell_type": "code",
   "execution_count": 3,
   "metadata": {},
   "outputs": [],
   "source": [
    "import logfire\n",
    "logfire.configure(\n",
    "    service_name=\"sale email manager\",\n",
    "    send_to_logfire=False\n",
    ")\n",
    "logfire.instrument_openai_agents()"
   ]
  },
  {
   "cell_type": "code",
   "execution_count": 4,
   "metadata": {},
   "outputs": [
    {
     "data": {
      "text/plain": [
       "True"
      ]
     },
     "execution_count": 4,
     "metadata": {},
     "output_type": "execute_result"
    }
   ],
   "source": [
    "from langfuse import get_client\n",
    "langfuse = get_client()\n",
    "langfuse.auth_check()"
   ]
  },
  {
   "cell_type": "code",
   "execution_count": 5,
   "metadata": {},
   "outputs": [],
   "source": [
    "openai_api_key = os.getenv('OPENAI_API_KEY')\n",
    "google_api_key = os.getenv('GOOGLE_API_KEY')\n",
    "openrouter_api_key = os.getenv('OR_API_KEY')\n",
    "groq_api_key = os.getenv('GROQ_API_KEY')\n"
   ]
  },
  {
   "cell_type": "code",
   "execution_count": 6,
   "metadata": {},
   "outputs": [],
   "source": [
    "instructions1 = \"You are a sales agent working for ComplAI, \\\n",
    "a company that provides a SaaS tool for ensuring SOC2 compliance and preparing for audits, powered by AI. \\\n",
    "You write professional, serious cold emails.\"\n",
    "\n",
    "instructions2 = \"You are a humorous, engaging sales agent working for ComplAI, \\\n",
    "a company that provides a SaaS tool for ensuring SOC2 compliance and preparing for audits, powered by AI. \\\n",
    "You write witty, engaging cold emails that are likely to get a response.\"\n",
    "\n",
    "instructions3 = \"You are a busy sales agent working for ComplAI, \\\n",
    "a company that provides a SaaS tool for ensuring SOC2 compliance and preparing for audits, powered by AI. \\\n",
    "You write concise, to the point cold emails.\""
   ]
  },
  {
   "cell_type": "code",
   "execution_count": 7,
   "metadata": {},
   "outputs": [],
   "source": [
    "GEMINI_BASE_URL = \"https://generativelanguage.googleapis.com/v1beta/openai/\"\n",
    "OPENROUTER_BASE_URL = \"https://openrouter.ai/api/v1\"\n",
    "GROQ_BASE_URL = \"https://api.groq.com/openai/v1\""
   ]
  },
  {
   "cell_type": "code",
   "execution_count": 8,
   "metadata": {},
   "outputs": [],
   "source": [
    "\n",
    "deepseek_client = AsyncOpenAI(base_url=OPENROUTER_BASE_URL, api_key=openrouter_api_key)\n",
    "gemini_client = AsyncOpenAI(base_url=GEMINI_BASE_URL, api_key=google_api_key)\n",
    "groq_client = AsyncOpenAI(base_url=GROQ_BASE_URL, api_key=groq_api_key)\n",
    "\n",
    "deepseek_model = OpenAIChatCompletionsModel(model=\"deepseek/deepseek-chat-v3.1:free\", openai_client=deepseek_client)\n",
    "gemini_model = OpenAIChatCompletionsModel(model=\"gemini-2.0-flash\", openai_client=gemini_client)\n",
    "llama3_3_model = OpenAIChatCompletionsModel(model=\"llama-3.3-70b-versatile\", openai_client=groq_client)"
   ]
  },
  {
   "cell_type": "code",
   "execution_count": 9,
   "metadata": {},
   "outputs": [
    {
     "name": "stdout",
     "output_type": "stream",
     "text": [
      "17:35:41.600 OpenAI Agents trace: Agent workflow\n",
      "17:35:41.604   Agent run: 'Llama3.3 Sales Agent'\n",
      "17:35:41.606     Chat completion with 'llama-3.3-70b-versatile' [LLM]\n"
     ]
    },
    {
     "data": {
      "text/plain": [
       "\"Subject: Simplify SOC2 Compliance with ComplAI\\n\\nDear [CTO's Name],\\n\\nAs a CTO of a growing startup, ensuring SOC2 compliance is crucial for building trust with your customers and stakeholders. However, the audit process can be time-consuming and cumbersome.\\n\\nComplAI is here to help. Our AI-powered SaaS tool streamlines SOC2 compliance and audit preparation, saving you time and resources. With ComplAI, you can:\\n\\n* Automate evidence collection and mapping\\n* Identify and remediate gaps in your compliance posture\\n* Stay on top of changing regulatory requirements\\n\\nOur platform has already helped numerous mid-size startups like yours achieve SOC2 compliance efficiently. I'd love to schedule a quick call to discuss how ComplAI can support your compliance journey.\\n\\nAre you available for a 15-minute call this week or next?\\n\\nBest,\\n[Your Name]\\nSales Agent, ComplAI\\n[Your Email]\\n[Your Phone Number]\""
      ]
     },
     "execution_count": 9,
     "metadata": {},
     "output_type": "execute_result"
    }
   ],
   "source": [
    "sales_agent1 = Agent(name=\"DeepSeek Sales Agent\", instructions=instructions1, model=deepseek_model)\n",
    "sales_agent2 =  Agent(name=\"Gemini Sales Agent\", instructions=instructions2, model=gemini_model)\n",
    "sales_agent3  = Agent(name=\"Llama3.3 Sales Agent\",instructions=instructions3,model=llama3_3_model)\n",
    "res = await Runner.run(sales_agent3, \"Write a cold email to a CTO of a mid-size startup about ComplAI\")\n",
    "res.final_output"
   ]
  },
  {
   "cell_type": "code",
   "execution_count": 10,
   "metadata": {},
   "outputs": [],
   "source": [
    "description = \"Write a cold sales email\"\n",
    "\n",
    "tool1 = sales_agent1.as_tool(tool_name=\"sales_agent1\", tool_description=description)\n",
    "tool2 = sales_agent2.as_tool(tool_name=\"sales_agent2\", tool_description=description)\n",
    "tool3 = sales_agent3.as_tool(tool_name=\"sales_agent3\", tool_description=description)"
   ]
  },
  {
   "cell_type": "code",
   "execution_count": 11,
   "metadata": {},
   "outputs": [],
   "source": [
    "sender_email = \"bhavin@advant.xyz\"\n",
    "receiver_email = 'bhavin2004k@gmail.com'"
   ]
  },
  {
   "cell_type": "code",
   "execution_count": 12,
   "metadata": {},
   "outputs": [
    {
     "data": {
      "text/plain": [
       "FunctionTool(name='send_html_email', description='Send out an email with the given subject and HTML body to all sales prospects', params_json_schema={'properties': {'subject': {'title': 'Subject', 'type': 'string'}, 'html_body': {'title': 'Html Body', 'type': 'string'}}, 'required': ['subject', 'html_body'], 'title': 'send_html_email_args', 'type': 'object', 'additionalProperties': False}, on_invoke_tool=<function function_tool.<locals>._create_function_tool.<locals>._on_invoke_tool at 0x7f1e0427e5c0>, strict_json_schema=True, is_enabled=True)"
      ]
     },
     "execution_count": 12,
     "metadata": {},
     "output_type": "execute_result"
    }
   ],
   "source": [
    "@function_tool\n",
    "def send_html_email(subject: str, html_body: str) -> Dict[str, str]:\n",
    "    \"\"\" Send out an email with the given subject and HTML body to all sales prospects \"\"\"\n",
    "    sg = sendgrid.SendGridAPIClient(api_key=os.environ.get('SENDGRID_API_KEY'))\n",
    "    from_email = Email(sender_email)\n",
    "    to_email = To(receiver_email) \n",
    "    content = Content(\"text/html\", html_body)\n",
    "    mail = Mail(from_email, to_email, subject, content).get()\n",
    "    response = sg.client.mail.send.post(request_body=mail)\n",
    "    return {\"status\": \"success\"}\n",
    "send_html_email"
   ]
  },
  {
   "cell_type": "code",
   "execution_count": 13,
   "metadata": {},
   "outputs": [],
   "source": [
    "from pydantic import BaseModel\n",
    "\n",
    "class EmailRequest(BaseModel):\n",
    "    subject: str\n",
    "    html_body: str"
   ]
  },
  {
   "cell_type": "code",
   "execution_count": 14,
   "metadata": {},
   "outputs": [
    {
     "name": "stdout",
     "output_type": "stream",
     "text": [
      "17:35:43.147 OpenAI Agents trace: Agent workflow\n",
      "17:35:43.150   Agent run: 'Email Writer Agent'\n",
      "17:35:43.178     Responses API with 'gpt-4o-mini'\n"
     ]
    }
   ],
   "source": [
    "\n",
    "instructions_to_mail = '''Write a professional, concise email subject line and body based on the following cold sales email.\n",
    "Make sure the email is engaging and likely to get a response.\n",
    "You will write a professional subject line for the cold sales email.\n",
    "And The body should be in HTML format which is also beautiful and engaging make user feel into love with the email.\n",
    "You will be given the body text of the email so you don't need to come up with the body text.\n",
    "Just format it in HTML.\n",
    "\n",
    "Return the subject line and body in the json format:\n",
    "{\n",
    "  \"subject\": \"subject line here\",\n",
    "  \"html_body\": \"email body here\"\n",
    "}\n",
    "'''\n",
    "\n",
    "email_writer_agent = Agent(instructions=instructions_to_mail,model=\"gpt-4o-mini\",name=\"Email Writer Agent\",output_type=EmailRequest)\n",
    "res = await Runner.run(email_writer_agent, \"Write a cold sales email to a CTO of a mid-size startup about ComplAI\")\n",
    "email_writer_agent_tool = email_writer_agent.as_tool(tool_name=\"email_writer_agent\", tool_description=\"Write a professional, concise email subject line and body based on the following cold sales email.And respond in json format.\")"
   ]
  },
  {
   "cell_type": "code",
   "execution_count": 15,
   "metadata": {},
   "outputs": [
    {
     "data": {
      "text/plain": [
       "EmailRequest(subject='Revolutionize Your AI Strategy with ComplAI', html_body=\"<html>\\n<head>\\n<style>\\nbody {font-family: Arial, sans-serif; color: #333; line-height: 1.6;}\\nh1 {color: #007bff;}\\np {margin: 0 0 15px;}\\na {color: #007bff; text-decoration: none;}\\n.container {max-width: 600px; margin: 0 auto; padding: 20px; border: 1px solid #e0e0e0; border-radius: 8px;}\\n.button {background-color: #007bff; color: #fff; padding: 10px 15px; text-decoration: none; border-radius: 5px;}\\n</style>\\n</head>\\n<body>\\n<div class='container'>\\n    <h1>Hello [CTO's Name],</h1>\\n    <p>I hope this message finds you well. I'm reaching out to share how ComplAI can transform your AI initiatives into impactful solutions.</p>\\n    <p>At ComplAI, we specialize in streamlining AI integration for startups like yours, enabling you to focus on innovation while we handle the complexities of AI deployment.</p>\\n    <p>Whether it’s enhancing user experience, automating processes, or driving data-driven decisions, we have the tools and expertise to help you stay ahead in a competitive landscape.</p>\\n    <p>Let’s schedule a brief call to discuss how ComplAI can align with your goals. I assure you it’ll be worth your time!</p>\\n    <p>Looking forward to connecting!</p>\\n    <a href='[Insert Scheduling Link]' class='button'>Schedule a Call</a>\\n    <p>Best regards,<br>Your Name<br>Your Position<br>ComplAI</p>\\n</div>\\n</body>\\n</html>\")"
      ]
     },
     "execution_count": 15,
     "metadata": {},
     "output_type": "execute_result"
    }
   ],
   "source": [
    "res.final_output"
   ]
  },
  {
   "cell_type": "code",
   "execution_count": 16,
   "metadata": {},
   "outputs": [],
   "source": [
    "email_tools = [email_writer_agent_tool, send_html_email]"
   ]
  },
  {
   "cell_type": "code",
   "execution_count": 17,
   "metadata": {},
   "outputs": [],
   "source": [
    "instructions =\"You are an email formatter and sender. You receive the body of an email to be sent. \\\n",
    "You first use the email_writer_agent tool to write a subject for the email and convert body text to HTML. \\\n",
    "Finally, you use the send_html_email tool to send the email with the subject and HTML body.\"\n",
    "\n",
    "\n",
    "emailer_agent = Agent(\n",
    "    name=\"Email Manager\",\n",
    "    instructions=instructions,\n",
    "    tools=email_tools,\n",
    "    model=\"gpt-4o-mini\",\n",
    "    handoff_description=\"Convert an email to the subject and html body and then send it mail\")"
   ]
  },
  {
   "cell_type": "code",
   "execution_count": 18,
   "metadata": {},
   "outputs": [],
   "source": [
    "tools = [tool1, tool2, tool3]\n",
    "handoffs = [emailer_agent]"
   ]
  },
  {
   "cell_type": "code",
   "execution_count": 20,
   "metadata": {},
   "outputs": [
    {
     "name": "stdout",
     "output_type": "stream",
     "text": [
      "17:35:59.061 OpenAI Agents trace: Automated SDR\n",
      "17:35:59.062   Agent run: 'Sales Manager'\n",
      "17:35:59.064     Responses API with 'gpt-4o-mini'\n",
      "17:36:10.548     Function: sales_agent1\n",
      "17:36:10.550     Function: sales_agent2\n",
      "17:36:10.551     Function: sales_agent3\n",
      "                 Function: sales_agent1\n",
      "17:36:10.552       Agent run: 'DeepSeek Sales Agent'\n",
      "                 Function: sales_agent2\n",
      "17:36:10.553       Agent run: 'Gemini Sales Agent'\n",
      "                 Function: sales_agent3\n",
      "17:36:10.554       Agent run: 'Llama3.3 Sales Agent'\n",
      "                 Function: sales_agent1\n",
      "                   Agent run: 'DeepSeek Sales Agent'\n",
      "17:36:10.555         Chat completion with 'deepseek/deepseek-chat-v3.1:free' [LLM]\n",
      "                 Function: sales_agent2\n",
      "                   Agent run: 'Gemini Sales Agent'\n",
      "17:36:10.557         Chat completion with 'gemini-2.0-flash' [LLM]\n",
      "                 Function: sales_agent3\n",
      "                   Agent run: 'Llama3.3 Sales Agent'\n",
      "17:36:10.559         Chat completion with 'llama-3.3-70b-versatile' [LLM]\n",
      "17:36:32.179     Responses API with 'gpt-4o-mini'\n",
      "17:36:48.387     Handoff: Sales Manager → None\n",
      "17:36:48.389   Agent run: 'Email Manager'\n",
      "17:36:48.389     Responses API with 'gpt-4o-mini'\n",
      "17:36:53.435     Function: email_writer_agent\n",
      "17:36:53.435     Function: send_html_email\n",
      "                 Function: email_writer_agent\n",
      "17:36:53.436       Agent run: 'Email Writer Agent'\n",
      "17:36:55.098         Responses API with 'gpt-4o-mini'\n",
      "17:37:05.383     Responses API with 'gpt-4o-mini'\n"
     ]
    }
   ],
   "source": [
    "sales_manager_instructions = \"\"\"\n",
    "You are a Sales Manager at ComplAI. Your goal is to find the single best cold sales email using the sales_agent tools.\n",
    " \n",
    "Follow these steps carefully:\n",
    "1. Generate Drafts: Use all three sales_agent tools to generate three different email drafts. Do not proceed until all three drafts are ready.\n",
    " \n",
    "2. Evaluate and Select: Review the drafts and choose the single best email using your judgment of which one is most effective.\n",
    "You can use the tools multiple times if you're not satisfied with the results from the first try.\n",
    " \n",
    "3. Handoff for Sending: Pass ONLY the winning email draft to the 'Email Manager' agent. The Email Manager will take care of formatting and sending.\n",
    " \n",
    "Crucial Rules:\n",
    "- You must use the sales agent tools to generate the drafts — do not write them yourself.\n",
    "- You must hand off exactly ONE email to the Email Manager — never more than one.\n",
    "\"\"\"\n",
    "\n",
    "\n",
    "sales_manager = Agent(\n",
    "    name=\"Sales Manager\",\n",
    "    instructions=sales_manager_instructions,\n",
    "    tools=tools,\n",
    "    handoffs=handoffs,\n",
    "    model=\"gpt-4o-mini\")\n",
    "\n",
    "message = \"Send out a cold sales email addressed to Dear CEO from Alice\"\n",
    "\n",
    "with trace(\"Automated SDR\"):\n",
    "    result = await Runner.run(sales_manager, message)"
   ]
  },
  {
   "cell_type": "code",
   "execution_count": null,
   "metadata": {},
   "outputs": [
    {
     "name": "stderr",
     "output_type": "stream",
     "text": [
      "Context error: No active span in current context. Operations that depend on an active span will be skipped. Ensure spans are created with start_as_current_span() or that you're operating within an active span context.\n"
     ]
    }
   ],
   "source": []
  },
  {
   "cell_type": "code",
   "execution_count": 21,
   "metadata": {},
   "outputs": [
    {
     "data": {
      "text/plain": [
       "'The email has been successfully sent to the CEO with the following details:\\n\\n### Subject:\\n**Unlock New Opportunities with ComplAI**\\n\\n### Body:\\n```html\\n<html>\\n<head>\\n    <style>\\n        body { font-family: Arial, sans-serif; background-color: #f4f4f4; padding: 20px; }\\n        .container { background-color: #ffffff; border-radius: 8px; box-shadow: 0 2px 4px rgba(0, 0, 0, 0.1); padding: 20px; }\\n        h1 { color: #333; }\\n        p { color: #666; line-height: 1.6; }\\n        .button { background-color: #007BFF; color: #ffffff; padding: 10px 15px; text-decoration: none; border-radius: 5px; }\\n        .footer { margin-top: 20px; font-size: 0.8em; color: #999; }\\n    </style>\\n</head>\\n<body>\\n    <div class=\"container\">\\n        <h1>Dear CEO,</h1>\\n        <p>I hope this message finds you well! I\\'m Alice, reaching out from ComplAI to introduce you to a powerful solution that can drive efficiency and innovation in your organization.</p>\\n        <p>At ComplAI, we specialize in AI-driven tools designed to streamline operations and enhance decision-making processes, ultimately leading to significant cost savings. Imagine freeing up your team to focus on what they do best while our technology takes care of the routine tasks.</p>\\n        <p>I would love to explore how we can tailor our offerings to benefit your business specifically. <a href=\"#\" class=\"button\">Are you available for a brief call next week?</a></p>\\n        <p>Best regards,<br>Alice</p>\\n    </div>\\n    <div class=\"footer\">\\n        <p>Thank you for considering ComplAI! We look forward to the possibility of working together.</p>\\n    </div>\\n</body>\\n</html>\\n```\\n\\nIf there\\'s anything more you\\'d like to do or if you have any other requests, feel free to ask!'"
      ]
     },
     "execution_count": 21,
     "metadata": {},
     "output_type": "execute_result"
    }
   ],
   "source": [
    "result.final_output"
   ]
  },
  {
   "cell_type": "markdown",
   "metadata": {},
   "source": [
    "## Check out the trace:\n",
    "\n",
    "https://platform.openai.com/traces"
   ]
  },
  {
   "cell_type": "code",
   "execution_count": 26,
   "metadata": {},
   "outputs": [],
   "source": [
    "class NameCheckOutput(BaseModel):\n",
    "    is_name_in_message: bool\n",
    "    name: str\n",
    "\n",
    "guardrail_agent = Agent( \n",
    "    name=\"Name check\",\n",
    "    instructions=\"Check if the user is including someone's personal name in what they want you to do.\",\n",
    "    output_type=NameCheckOutput,\n",
    "    model=\"gpt-4o-mini\"\n",
    ")"
   ]
  },
  {
   "cell_type": "code",
   "execution_count": 27,
   "metadata": {},
   "outputs": [],
   "source": [
    "@input_guardrail\n",
    "async def guardrail_against_name(ctx, agent, message):\n",
    "    result = await Runner.run(guardrail_agent, message, context=ctx.context)\n",
    "    is_name_in_message = result.final_output.is_name_in_message\n",
    "    return GuardrailFunctionOutput(output_info={\"found_name\": result.final_output},tripwire_triggered=is_name_in_message)"
   ]
  },
  {
   "cell_type": "code",
   "execution_count": 28,
   "metadata": {},
   "outputs": [
    {
     "name": "stdout",
     "output_type": "stream",
     "text": [
      "17:41:00.420 OpenAI Agents trace: Protected Automated SDR\n",
      "17:41:00.421   Agent run: 'Sales Manager'\n",
      "17:41:00.422     Guardrail 'guardrail_against_name' triggered=False\n",
      "17:41:00.424       Agent run: 'Name check'\n",
      "17:41:00.425     Responses API with 'gpt-4o-mini'\n",
      "                 Guardrail 'guardrail_against_name' triggered=False\n",
      "                   Agent run: 'Name check'\n",
      "17:41:00.428         Responses API with 'gpt-4o-mini'\n"
     ]
    },
    {
     "ename": "InputGuardrailTripwireTriggered",
     "evalue": "Guardrail InputGuardrail triggered tripwire",
     "output_type": "error",
     "traceback": [
      "\u001b[31m---------------------------------------------------------------------------\u001b[39m",
      "\u001b[31mInputGuardrailTripwireTriggered\u001b[39m           Traceback (most recent call last)",
      "\u001b[36mCell\u001b[39m\u001b[36m \u001b[39m\u001b[32mIn[28]\u001b[39m\u001b[32m, line 13\u001b[39m\n\u001b[32m     10\u001b[39m message = \u001b[33m\"\u001b[39m\u001b[33mSend out a cold sales email addressed to Dear CEO from Alice\u001b[39m\u001b[33m\"\u001b[39m\n\u001b[32m     12\u001b[39m \u001b[38;5;28;01mwith\u001b[39;00m trace(\u001b[33m\"\u001b[39m\u001b[33mProtected Automated SDR\u001b[39m\u001b[33m\"\u001b[39m):\n\u001b[32m---> \u001b[39m\u001b[32m13\u001b[39m     result = \u001b[38;5;28;01mawait\u001b[39;00m Runner.run(careful_sales_manager, message)\n",
      "\u001b[36mFile \u001b[39m\u001b[32m~/PycharmProjects/agents/.venv/lib/python3.12/site-packages/agents/run.py:199\u001b[39m, in \u001b[36mRunner.run\u001b[39m\u001b[34m(cls, starting_agent, input, context, max_turns, hooks, run_config, previous_response_id)\u001b[39m\n\u001b[32m    172\u001b[39m \u001b[38;5;250m\u001b[39m\u001b[33;03m\"\"\"Run a workflow starting at the given agent. The agent will run in a loop until a final\u001b[39;00m\n\u001b[32m    173\u001b[39m \u001b[33;03moutput is generated. The loop runs like so:\u001b[39;00m\n\u001b[32m    174\u001b[39m \u001b[33;03m1. The agent is invoked with the given input.\u001b[39;00m\n\u001b[32m   (...)\u001b[39m\u001b[32m    196\u001b[39m \u001b[33;03m    agent. Agents may perform handoffs, so we don't know the specific type of the output.\u001b[39;00m\n\u001b[32m    197\u001b[39m \u001b[33;03m\"\"\"\u001b[39;00m\n\u001b[32m    198\u001b[39m runner = DEFAULT_AGENT_RUNNER\n\u001b[32m--> \u001b[39m\u001b[32m199\u001b[39m \u001b[38;5;28;01mreturn\u001b[39;00m \u001b[38;5;28;01mawait\u001b[39;00m runner.run(\n\u001b[32m    200\u001b[39m     starting_agent,\n\u001b[32m    201\u001b[39m     \u001b[38;5;28minput\u001b[39m,\n\u001b[32m    202\u001b[39m     context=context,\n\u001b[32m    203\u001b[39m     max_turns=max_turns,\n\u001b[32m    204\u001b[39m     hooks=hooks,\n\u001b[32m    205\u001b[39m     run_config=run_config,\n\u001b[32m    206\u001b[39m     previous_response_id=previous_response_id,\n\u001b[32m    207\u001b[39m )\n",
      "\u001b[36mFile \u001b[39m\u001b[32m~/PycharmProjects/agents/.venv/lib/python3.12/site-packages/agents/run.py:395\u001b[39m, in \u001b[36mAgentRunner.run\u001b[39m\u001b[34m(self, starting_agent, input, **kwargs)\u001b[39m\n\u001b[32m    390\u001b[39m logger.debug(\n\u001b[32m    391\u001b[39m     \u001b[33mf\u001b[39m\u001b[33m\"\u001b[39m\u001b[33mRunning agent \u001b[39m\u001b[38;5;132;01m{\u001b[39;00mcurrent_agent.name\u001b[38;5;132;01m}\u001b[39;00m\u001b[33m (turn \u001b[39m\u001b[38;5;132;01m{\u001b[39;00mcurrent_turn\u001b[38;5;132;01m}\u001b[39;00m\u001b[33m)\u001b[39m\u001b[33m\"\u001b[39m,\n\u001b[32m    392\u001b[39m )\n\u001b[32m    394\u001b[39m \u001b[38;5;28;01mif\u001b[39;00m current_turn == \u001b[32m1\u001b[39m:\n\u001b[32m--> \u001b[39m\u001b[32m395\u001b[39m     input_guardrail_results, turn_result = \u001b[38;5;28;01mawait\u001b[39;00m asyncio.gather(\n\u001b[32m    396\u001b[39m         \u001b[38;5;28mself\u001b[39m._run_input_guardrails(\n\u001b[32m    397\u001b[39m             starting_agent,\n\u001b[32m    398\u001b[39m             starting_agent.input_guardrails\n\u001b[32m    399\u001b[39m             + (run_config.input_guardrails \u001b[38;5;129;01mor\u001b[39;00m []),\n\u001b[32m    400\u001b[39m             copy.deepcopy(\u001b[38;5;28minput\u001b[39m),\n\u001b[32m    401\u001b[39m             context_wrapper,\n\u001b[32m    402\u001b[39m         ),\n\u001b[32m    403\u001b[39m         \u001b[38;5;28mself\u001b[39m._run_single_turn(\n\u001b[32m    404\u001b[39m             agent=current_agent,\n\u001b[32m    405\u001b[39m             all_tools=all_tools,\n\u001b[32m    406\u001b[39m             original_input=original_input,\n\u001b[32m    407\u001b[39m             generated_items=generated_items,\n\u001b[32m    408\u001b[39m             hooks=hooks,\n\u001b[32m    409\u001b[39m             context_wrapper=context_wrapper,\n\u001b[32m    410\u001b[39m             run_config=run_config,\n\u001b[32m    411\u001b[39m             should_run_agent_start_hooks=should_run_agent_start_hooks,\n\u001b[32m    412\u001b[39m             tool_use_tracker=tool_use_tracker,\n\u001b[32m    413\u001b[39m             previous_response_id=previous_response_id,\n\u001b[32m    414\u001b[39m         ),\n\u001b[32m    415\u001b[39m     )\n\u001b[32m    416\u001b[39m \u001b[38;5;28;01melse\u001b[39;00m:\n\u001b[32m    417\u001b[39m     turn_result = \u001b[38;5;28;01mawait\u001b[39;00m \u001b[38;5;28mself\u001b[39m._run_single_turn(\n\u001b[32m    418\u001b[39m         agent=current_agent,\n\u001b[32m    419\u001b[39m         all_tools=all_tools,\n\u001b[32m   (...)\u001b[39m\u001b[32m    427\u001b[39m         previous_response_id=previous_response_id,\n\u001b[32m    428\u001b[39m     )\n",
      "\u001b[36mFile \u001b[39m\u001b[32m~/PycharmProjects/agents/.venv/lib/python3.12/site-packages/agents/run.py:1003\u001b[39m, in \u001b[36mAgentRunner._run_input_guardrails\u001b[39m\u001b[34m(cls, agent, guardrails, input, context)\u001b[39m\n\u001b[32m    996\u001b[39m         t.cancel()\n\u001b[32m    997\u001b[39m     _error_tracing.attach_error_to_current_span(\n\u001b[32m    998\u001b[39m         SpanError(\n\u001b[32m    999\u001b[39m             message=\u001b[33m\"\u001b[39m\u001b[33mGuardrail tripwire triggered\u001b[39m\u001b[33m\"\u001b[39m,\n\u001b[32m   1000\u001b[39m             data={\u001b[33m\"\u001b[39m\u001b[33mguardrail\u001b[39m\u001b[33m\"\u001b[39m: result.guardrail.get_name()},\n\u001b[32m   1001\u001b[39m         )\n\u001b[32m   1002\u001b[39m     )\n\u001b[32m-> \u001b[39m\u001b[32m1003\u001b[39m     \u001b[38;5;28;01mraise\u001b[39;00m InputGuardrailTripwireTriggered(result)\n\u001b[32m   1004\u001b[39m \u001b[38;5;28;01melse\u001b[39;00m:\n\u001b[32m   1005\u001b[39m     guardrail_results.append(result)\n",
      "\u001b[31mInputGuardrailTripwireTriggered\u001b[39m: Guardrail InputGuardrail triggered tripwire"
     ]
    },
    {
     "name": "stdout",
     "output_type": "stream",
     "text": [
      "17:41:12.677 Function: sales_agent1\n",
      "17:41:12.677 Function: sales_agent2\n",
      "17:41:12.678 Function: sales_agent3\n",
      "             Function: sales_agent1\n",
      "17:41:12.678   Agent run: 'DeepSeek Sales Agent'\n",
      "             Function: sales_agent2\n",
      "17:41:12.678   Agent run: 'Gemini Sales Agent'\n",
      "             Function: sales_agent3\n",
      "17:41:12.679   Agent run: 'Llama3.3 Sales Agent'\n",
      "             Function: sales_agent1\n",
      "               Agent run: 'DeepSeek Sales Agent'\n",
      "17:41:12.679     Chat completion with 'deepseek/deepseek-chat-v3.1:free' [LLM]\n",
      "             Function: sales_agent2\n",
      "               Agent run: 'Gemini Sales Agent'\n",
      "17:41:12.681     Chat completion with 'gemini-2.0-flash' [LLM]\n",
      "             Function: sales_agent3\n",
      "               Agent run: 'Llama3.3 Sales Agent'\n",
      "17:41:12.683     Chat completion with 'llama-3.3-70b-versatile' [LLM]\n"
     ]
    }
   ],
   "source": [
    "careful_sales_manager = Agent(\n",
    "    name=\"Sales Manager\",\n",
    "    instructions=sales_manager_instructions,\n",
    "    tools=tools,\n",
    "    handoffs=[emailer_agent],\n",
    "    model=\"gpt-4o-mini\",\n",
    "    input_guardrails=[guardrail_against_name]\n",
    "    )\n",
    "\n",
    "message = \"Send out a cold sales email addressed to Dear CEO from Alice\"\n",
    "\n",
    "with trace(\"Protected Automated SDR\"):\n",
    "    result = await Runner.run(careful_sales_manager, message)"
   ]
  },
  {
   "cell_type": "markdown",
   "metadata": {},
   "source": [
    "## Check out the trace:\n",
    "\n",
    "https://platform.openai.com/traces"
   ]
  },
  {
   "cell_type": "code",
   "execution_count": 29,
   "metadata": {},
   "outputs": [
    {
     "name": "stdout",
     "output_type": "stream",
     "text": [
      "17:49:06.033 OpenAI Agents trace: Protected Automated SDR\n",
      "17:49:06.035   Agent run: 'Sales Manager'\n",
      "17:49:06.036     Guardrail 'guardrail_against_name' triggered=False\n",
      "17:49:06.037       Agent run: 'Name check'\n",
      "17:49:06.039     Responses API with 'gpt-4o-mini'\n",
      "                 Guardrail 'guardrail_against_name' triggered=False\n",
      "                   Agent run: 'Name check'\n",
      "17:49:06.043         Responses API with 'gpt-4o-mini'\n",
      "17:49:14.601     Function: sales_agent1\n",
      "17:49:14.601     Function: sales_agent2\n",
      "17:49:14.602     Function: sales_agent3\n",
      "                 Function: sales_agent1\n",
      "17:49:14.602       Agent run: 'DeepSeek Sales Agent'\n",
      "                 Function: sales_agent2\n",
      "17:49:14.604       Agent run: 'Gemini Sales Agent'\n",
      "                 Function: sales_agent3\n",
      "17:49:14.605       Agent run: 'Llama3.3 Sales Agent'\n",
      "                 Function: sales_agent1\n",
      "                   Agent run: 'DeepSeek Sales Agent'\n",
      "17:49:14.606         Chat completion with 'deepseek/deepseek-chat-v3.1:free' [LLM]\n",
      "                 Function: sales_agent2\n",
      "                   Agent run: 'Gemini Sales Agent'\n",
      "17:49:14.608         Chat completion with 'gemini-2.0-flash' [LLM]\n",
      "                 Function: sales_agent3\n",
      "                   Agent run: 'Llama3.3 Sales Agent'\n",
      "17:49:14.609         Chat completion with 'llama-3.3-70b-versatile' [LLM]\n",
      "17:49:33.858     Responses API with 'gpt-4o-mini'\n",
      "17:49:51.927     Handoff: Sales Manager → None\n",
      "17:49:51.929   Agent run: 'Email Manager'\n",
      "17:49:51.930     Responses API with 'gpt-4o-mini'\n",
      "17:50:10.365     Function: send_html_email\n",
      "17:50:10.366     Function: send_html_email\n",
      "17:50:13.104     Responses API with 'gpt-4o-mini'\n"
     ]
    }
   ],
   "source": [
    "\n",
    "message = \"Send out a cold sales email addressed to Dear CEO from Head of Business Development\"\n",
    "\n",
    "with trace(\"Protected Automated SDR\"):\n",
    "    result = await Runner.run(careful_sales_manager, message)"
   ]
  }
 ],
 "metadata": {
  "kernelspec": {
   "display_name": "agents",
   "language": "python",
   "name": "python3"
  },
  "language_info": {
   "codemirror_mode": {
    "name": "ipython",
    "version": 3
   },
   "file_extension": ".py",
   "mimetype": "text/x-python",
   "name": "python",
   "nbconvert_exporter": "python",
   "pygments_lexer": "ipython3",
   "version": "3.12.11"
  }
 },
 "nbformat": 4,
 "nbformat_minor": 2
}
